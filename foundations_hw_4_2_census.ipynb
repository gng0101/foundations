{
 "metadata": {
  "name": "",
  "signature": "sha256:e2168a70a7fcbae23b2fce0f95940229dd51ac584da517e811be41c6ef035b81"
 },
 "nbformat": 3,
 "nbformat_minor": 0,
 "worksheets": [
  {
   "cells": [
    {
     "cell_type": "markdown",
     "metadata": {},
     "source": [
      "##We will utilize census data in the following problems:"
     ]
    },
    {
     "cell_type": "code",
     "collapsed": false,
     "input": [
      "# Importing census and state libraries\n",
      "from census import Census\n",
      "from us import states\n",
      "\n",
      "key = \"some key I entered earlier\"\n",
      "\n",
      "# Initializing the object named Census to utilize its methods\n",
      "c = Census(key)"
     ],
     "language": "python",
     "metadata": {},
     "outputs": [],
     "prompt_number": 1
    },
    {
     "cell_type": "markdown",
     "metadata": {},
     "source": [
      "###1. What's the code for people born in Slovakia or the Czech Republic?"
     ]
    },
    {
     "cell_type": "markdown",
     "metadata": {},
     "source": [
      "#### The code for people born in Slovakia or the Czech Repulic is B05006_032E was found in the following page:\n",
      "#### http://api.census.gov/data/2012/acs5/variables.html"
     ]
    },
    {
     "cell_type": "markdown",
     "metadata": {},
     "source": [
      "###2. What's the total number of people born in Slovakia or the Czech Republic in the US?"
     ]
    },
    {
     "cell_type": "code",
     "collapsed": false,
     "input": [
      "# Using the Sunlight Foundation's census library to take our query to utilize the Census API and convert output to a dictionary \n",
      "# Define variable as the c.acs function with an input of us for location and Czech Rep and Slovakia for the variable code)\n",
      "# Variable codes here: http://api.census.gov/data/2012/acs5/variables.html\n",
      "total_born_slovaks_czechs_in_us = c.acs.us(('NAME', 'B05006_032E'))\n",
      "# Examine the structure of the list of dictionaries by evaluating: total_born_slovaks_czechs_in_us\n",
      "print \"There are \" + total_born_slovaks_czechs_in_us[0]['B05006_032E'] + \" people born in Slovakia or the Czech Republic in the US.\"\n"
     ],
     "language": "python",
     "metadata": {},
     "outputs": [
      {
       "output_type": "stream",
       "stream": "stdout",
       "text": [
        "There are 72005 people born in Slovakia or the Czech Republic in the US.\n"
       ]
      }
     ],
     "prompt_number": 2
    },
    {
     "cell_type": "markdown",
     "metadata": {},
     "source": [
      "###3. How many people between the ages of 5 and 9 live in the ZIP code 11238?"
     ]
    },
    {
     "cell_type": "code",
     "collapsed": false,
     "input": [
      "# Variable codes found at: http://api.census.gov/data/2012/acs3/variables.html\n",
      "# Male 5-9 = B01001_004E, Female 5-9 = B01001_028E\n",
      "output = c.acs.zipcode(('B01001_004E', 'B01001_028E'), '11238')\n",
      "total = int(output[0]['B01001_004E']) + int(output[0]['B01001_028E'])\n",
      "print \"There are \" + str(total) + \" people between the ages of living in ZIP code 11238.\""
     ],
     "language": "python",
     "metadata": {},
     "outputs": [
      {
       "output_type": "stream",
       "stream": "stdout",
       "text": [
        "There are 2113 people between the ages of living in ZIP code 11238.\n"
       ]
      }
     ],
     "prompt_number": 3
    },
    {
     "cell_type": "markdown",
     "metadata": {},
     "source": [
      "###4. Are there more Pakistani or Indian people in Queens County?"
     ]
    },
    {
     "cell_type": "code",
     "collapsed": false,
     "input": [
      "# Variable codes found at: http://api.census.gov/data/2012/acs3/variables.html\n",
      "# Pakistani = B02006_013E, Indian = B02006_002E\n",
      "# Input into Census function with acs method\n",
      "output = c.acs.state_county(('NAME', 'B02006_013E', 'B02006_002E'), states.NY.fips, ('81')) #note that the NY fips code = 36\n",
      "# Checking the output and data structure\n",
      "output"
     ],
     "language": "python",
     "metadata": {},
     "outputs": [
      {
       "metadata": {},
       "output_type": "pyout",
       "prompt_number": 4,
       "text": [
        "[{u'B02006_002E': u'140882',\n",
        "  u'B02006_013E': u'17231',\n",
        "  u'NAME': u'Queens County, New York',\n",
        "  u'county': u'081',\n",
        "  u'state': u'36'}]"
       ]
      }
     ],
     "prompt_number": 4
    },
    {
     "cell_type": "code",
     "collapsed": false,
     "input": [
      "# Use an if/else function to assign to list larger_list the larger group name and population, then output as a string.\n",
      "Indian_pop = output[0]['B02006_002E']\n",
      "Pakistani_pop = output[0]['B02006_013E']\n",
      "if Indian_pop > Pakistani_pop:\n",
      "    larger = larger[0:1] = ['Indian', Indian_pop]\n",
      "else:\n",
      "    larger = larger[0:1] = ['Pakistani', Pakistani_pop]\n",
      "print \"The larger group of people is \" + larger[0] + \" with \" + str(larger[1]) + \" people.\""
     ],
     "language": "python",
     "metadata": {},
     "outputs": [
      {
       "output_type": "stream",
       "stream": "stdout",
       "text": [
        "The larger group of people is Pakistani with 17231 people.\n"
       ]
      }
     ],
     "prompt_number": 5
    },
    {
     "cell_type": "markdown",
     "metadata": {},
     "source": [
      "###5. What state has the most people who work in the hunting & fishing industry?"
     ]
    },
    {
     "cell_type": "code",
     "collapsed": false,
     "input": [
      "# Variable codes found at: http://api.census.gov/data/2012/acs5/variables.html\n",
      "# Hunting & Fishing = B24121_336E\n",
      "c.acs.state(('NAME','B24121_336E'), Census.ALL)\n",
      "# Data not found in that B24121_336E shows empty data\n",
      "\n",
      "# Since data not found, checked 2012 figures in the ACS 3 Year data instead at: http://api.census.gov/data/2012/acs3/variables.html\n",
      "# Found Hunting & Fishing = B08126_002E\n",
      "hunt_fish_list = c.acs.state(('NAME','B08126_002E'), Census.ALL)\n",
      "\n",
      "# Check list\n",
      "hunt_fish_list\n",
      "\n",
      "# Sort the list of state dictionaries by workers in hunting and fishing industry, the reverse to descending order, then print\n",
      "hunt_fish_list = sorted(hunt_fish_list,key=lambda hunt_fish_list: int(hunt_fish_list['B08126_002E']))\n",
      "hunt_fish_list.reverse()\n",
      "hunt_fish_list\n",
      "print \"The State of \" + hunt_fish_list[0]['NAME'] + \" has the most people who work in the hunting and fishing industry with \" + hunt_fish_list[0]['B08126_002E'] + \".\""
     ],
     "language": "python",
     "metadata": {},
     "outputs": [
      {
       "output_type": "stream",
       "stream": "stdout",
       "text": [
        "The State of California has the most people who work in the hunting and fishing industry with 351379.\n"
       ]
      }
     ],
     "prompt_number": 6
    },
    {
     "cell_type": "markdown",
     "metadata": {},
     "source": [
      "###6. What county in New York has the fewest people?"
     ]
    },
    {
     "cell_type": "code",
     "collapsed": false,
     "input": [
      "# Assign retrieved Census population data for New York by county to a variable.\n",
      "ny_county_pop_list = c.acs.state_county(('NAME', 'B01003_001E'), str(states.NY.fips), '*')\n",
      "# Check to confirm output and data structure.\n",
      "ny_county_pop_list\n",
      "# Sort list in ascending order by population.\n",
      "sorted_ny_county_pop_list = sorted(ny_county_pop_list,key=lambda sorted_ny_county_pop_list: int(sorted_ny_county_pop_list['B01003_001E']))\n",
      "# Print output.\n",
      "sorted_ny_county_pop_list\n",
      "print \"The county in New York with the fewest people is \" + sorted_ny_county_pop_list[0]['NAME'] + \" with \" + sorted_ny_county_pop_list[0]['B01003_001E'] + \" people.\""
     ],
     "language": "python",
     "metadata": {},
     "outputs": [
      {
       "output_type": "stream",
       "stream": "stdout",
       "text": [
        "The county in New York with the fewest people is Hamilton County, New York with 4870 people.\n"
       ]
      }
     ],
     "prompt_number": 7
    },
    {
     "cell_type": "markdown",
     "metadata": {},
     "source": [
      "###7. Make a list of states, ordered by the number of graduate degrees."
     ]
    },
    {
     "cell_type": "code",
     "collapsed": false,
     "input": [
      "# Variable codes found at: http://api.census.gov/data/2012/acs3/variables.html\n",
      "# Bachelor's Degree = B06009_005E, Graduate or Profession Degree = B06009_006E\n",
      "\n",
      "# Save retrieved list of Census state dictionaries to a variable \n",
      "states_degrees = c.acs.state(('NAME','B06009_005E','B06009_006E'), '*')\n",
      "\n",
      "# If state has no value output 0 for total degrees else output integer state degrees\n",
      "for state_degree in states_degrees:\n",
      "    if state_degree['B06009_005E'] == None or state_degree['B06009_006E'] == None:\n",
      "        state_degree['total_degrees'] = 0\n",
      "    else:\n",
      "        state_degree['total_degrees'] = int(state_degree['B06009_005E']) + int(state_degree['B06009_006E'])\n",
      "# Print to check if the loop works correctly\n",
      "    print [state_degree]\n",
      "# Check list of all state degree totals\n",
      "print [state_degree['total_degrees'] for state_degree in states_degrees]\n",
      "\n",
      "# Sort the list of state dictionaries by total degrees, the reverse to descending order, then print\n",
      "Degrees_list = sorted(states_degrees,key=lambda Degrees: Degrees['total_degrees'])\n",
      "Degrees_list.reverse()\n",
      "Degrees_list"
     ],
     "language": "python",
     "metadata": {},
     "outputs": [
      {
       "output_type": "stream",
       "stream": "stdout",
       "text": [
        "[{u'B06009_005E': u'438211', u'state': u'01', u'B06009_006E': u'251228', u'NAME': u'Alabama', 'total_degrees': 689439}]\n",
        "[{u'B06009_005E': u'77520', u'state': u'02', u'B06009_006E': u'41882', u'NAME': u'Alaska', 'total_degrees': 119402}]\n",
        "[{u'B06009_005E': u'688123', u'state': u'04', u'B06009_006E': u'390775', u'NAME': u'Arizona', 'total_degrees': 1078898}]\n",
        "[{u'B06009_005E': u'248127', u'state': u'05', u'B06009_006E': u'124878', u'NAME': u'Arkansas', 'total_degrees': 373005}]\n",
        "[{u'B06009_005E': u'4583032', u'state': u'06', u'B06009_006E': u'2612035', u'NAME': u'California', 'total_degrees': 7195067}]\n",
        "[{u'B06009_005E': u'760017', u'state': u'08', u'B06009_006E': u'425109', u'NAME': u'Colorado', 'total_degrees': 1185126}]\n",
        "[{u'B06009_005E': u'486109', u'state': u'09', u'B06009_006E': u'375913', u'NAME': u'Connecticut', 'total_degrees': 862022}]\n",
        "[{u'B06009_005E': u'99435', u'state': u'10', u'B06009_006E': u'67260', u'NAME': u'Delaware', 'total_degrees': 166695}]\n",
        "[{u'B06009_005E': u'91283', u'state': u'11', u'B06009_006E': u'114368', u'NAME': u'District of Columbia', 'total_degrees': 205651}]\n",
        "[{u'B06009_005E': u'2170821', u'state': u'12', u'B06009_006E': u'1195547', u'NAME': u'Florida', 'total_degrees': 3366368}]\n",
        "[{u'B06009_005E': u'1086570', u'state': u'13', u'B06009_006E': u'605510', u'NAME': u'Georgia', 'total_degrees': 1692080}]\n",
        "[{u'B06009_005E': u'179254', u'state': u'15', u'B06009_006E': u'90856', u'NAME': u'Hawaii', 'total_degrees': 270110}]\n",
        "[{u'B06009_005E': u'164318', u'state': u'16', u'B06009_006E': u'74065', u'NAME': u'Idaho', 'total_degrees': 238383}]\n",
        "[{u'B06009_005E': u'1604636', u'state': u'17', u'B06009_006E': u'972020', u'NAME': u'Illinois', 'total_degrees': 2576656}]\n",
        "[{u'B06009_005E': u'611431', u'state': u'18', u'B06009_006E': u'341306', u'NAME': u'Indiana', 'total_degrees': 952737}]\n",
        "[{u'B06009_005E': u'344314', u'state': u'19', u'B06009_006E': u'153208', u'NAME': u'Iowa', 'total_degrees': 497522}]\n",
        "[{u'B06009_005E': u'355192', u'state': u'20', u'B06009_006E': u'186423', u'NAME': u'Kansas', 'total_degrees': 541615}]\n",
        "[{u'B06009_005E': u'353907', u'state': u'21', u'B06009_006E': u'240824', u'NAME': u'Kentucky', 'total_degrees': 594731}]\n",
        "[{u'B06009_005E': u'410501', u'state': u'22', u'B06009_006E': u'201800', u'NAME': u'Louisiana', 'total_degrees': 612301}]\n",
        "[{u'B06009_005E': u'162878', u'state': u'23', u'B06009_006E': u'90319', u'NAME': u'Maine', 'total_degrees': 253197}]\n",
        "[{u'B06009_005E': u'762501', u'state': u'24', u'B06009_006E': u'618134', u'NAME': u'Maryland', 'total_degrees': 1380635}]\n",
        "[{u'B06009_005E': u'977354', u'state': u'25', u'B06009_006E': u'733672', u'NAME': u'Massachusetts', 'total_degrees': 1711026}]\n",
        "[{u'B06009_005E': u'1021486', u'state': u'26', u'B06009_006E': u'638046', u'NAME': u'Michigan', 'total_degrees': 1659532}]\n",
        "[{u'B06009_005E': u'750190', u'state': u'27', u'B06009_006E': u'359091', u'NAME': u'Minnesota', 'total_degrees': 1109281}]\n",
        "[{u'B06009_005E': u'238819', u'state': u'28', u'B06009_006E': u'133307', u'NAME': u'Mississippi', 'total_degrees': 372126}]\n",
        "[{u'B06009_005E': u'630556', u'state': u'29', u'B06009_006E': u'371388', u'NAME': u'Missouri', 'total_degrees': 1001944}]\n",
        "[{u'B06009_005E': u'128736', u'state': u'30', u'B06009_006E': u'58061', u'NAME': u'Montana', 'total_degrees': 186797}]\n",
        "[{u'B06009_005E': u'222204', u'state': u'31', u'B06009_006E': u'104436', u'NAME': u'Nebraska', 'total_degrees': 326640}]\n",
        "[{u'B06009_005E': u'259287', u'state': u'32', u'B06009_006E': u'131911', u'NAME': u'Nevada', 'total_degrees': 391198}]\n",
        "[{u'B06009_005E': u'189486', u'state': u'33', u'B06009_006E': u'108934', u'NAME': u'New Hampshire', 'total_degrees': 298420}]\n",
        "[{u'B06009_005E': u'1294249', u'state': u'34', u'B06009_006E': u'778213', u'NAME': u'New Jersey', 'total_degrees': 2072462}]\n",
        "[{u'B06009_005E': u'192909', u'state': u'35', u'B06009_006E': u'142120', u'NAME': u'New Mexico', 'total_degrees': 335029}]\n",
        "[{u'B06009_005E': u'2404491', u'state': u'36', u'B06009_006E': u'1819016', u'NAME': u'New York', 'total_degrees': 4223507}]\n",
        "[{u'B06009_005E': u'1099631', u'state': u'37', u'B06009_006E': u'553158', u'NAME': u'North Carolina', 'total_degrees': 1652789}]\n",
        "[{u'B06009_005E': u'85493', u'state': u'38', u'B06009_006E': u'30177', u'NAME': u'North Dakota', 'total_degrees': 115670}]\n",
        "[{u'B06009_005E': u'1190414', u'state': u'39', u'B06009_006E': u'692282', u'NAME': u'Ohio', 'total_degrees': 1882696}]\n",
        "[{u'B06009_005E': u'373040', u'state': u'40', u'B06009_006E': u'182239', u'NAME': u'Oklahoma', 'total_degrees': 555279}]\n",
        "[{u'B06009_005E': u'474848', u'state': u'41', u'B06009_006E': u'272793', u'NAME': u'Oregon', 'total_degrees': 747641}]\n",
        "[{u'B06009_005E': u'1416932', u'state': u'42', u'B06009_006E': u'879628', u'NAME': u'Pennsylvania', 'total_degrees': 2296560}]\n",
        "[{u'B06009_005E': u'131495', u'state': u'44', u'B06009_006E': u'85339', u'NAME': u'Rhode Island', 'total_degrees': 216834}]\n",
        "[{u'B06009_005E': u'473655', u'state': u'45', u'B06009_006E': u'259911', u'NAME': u'South Carolina', 'total_degrees': 733566}]\n",
        "[{u'B06009_005E': u'95651', u'state': u'46', u'B06009_006E': u'39920', u'NAME': u'South Dakota', 'total_degrees': 135571}]\n",
        "[{u'B06009_005E': u'626498', u'state': u'47', u'B06009_006E': u'342180', u'NAME': u'Tennessee', 'total_degrees': 968678}]\n",
        "[{u'B06009_005E': u'2693889', u'state': u'48', u'B06009_006E': u'1330503', u'NAME': u'Texas', 'total_degrees': 4024392}]\n",
        "[{u'B06009_005E': u'309400', u'state': u'49', u'B06009_006E': u'146883', u'NAME': u'Utah', 'total_degrees': 456283}]\n",
        "[{u'B06009_005E': u'88106', u'state': u'50', u'B06009_006E': u'57164', u'NAME': u'Vermont', 'total_degrees': 145270}]\n",
        "[{u'B06009_005E': u'1064406', u'state': u'51', u'B06009_006E': u'749438', u'NAME': u'Virginia', 'total_degrees': 1813844}]\n",
        "[{u'B06009_005E': u'891470', u'state': u'53', u'B06009_006E': u'500342', u'NAME': u'Washington', 'total_degrees': 1391812}]\n",
        "[{u'B06009_005E': u'139860', u'state': u'54', u'B06009_006E': u'86980', u'NAME': u'West Virginia', 'total_degrees': 226840}]\n",
        "[{u'B06009_005E': u'651003', u'state': u'55', u'B06009_006E': u'330966', u'NAME': u'Wisconsin', 'total_degrees': 981969}]\n",
        "[{u'B06009_005E': u'58539', u'state': u'56', u'B06009_006E': u'29789', u'NAME': u'Wyoming', 'total_degrees': 88328}]\n",
        "[{u'B06009_005E': None, u'state': u'72', u'B06009_006E': None, u'NAME': u'Puerto Rico', 'total_degrees': 0}]\n",
        "[689439, 119402, 1078898, 373005, 7195067, 1185126, 862022, 166695, 205651, 3366368, 1692080, 270110, 238383, 2576656, 952737, 497522, 541615, 594731, 612301, 253197, 1380635, 1711026, 1659532, 1109281, 372126, 1001944, 186797, 326640, 391198, 298420, 2072462, 335029, 4223507, 1652789, 115670, 1882696, 555279, 747641, 2296560, 216834, 733566, 135571, 968678, 4024392, 456283, 145270, 1813844, 1391812, 226840, 981969, 88328, 0]\n"
       ]
      },
      {
       "metadata": {},
       "output_type": "pyout",
       "prompt_number": 8,
       "text": [
        "[{u'B06009_005E': u'4583032',\n",
        "  u'B06009_006E': u'2612035',\n",
        "  u'NAME': u'California',\n",
        "  u'state': u'06',\n",
        "  'total_degrees': 7195067},\n",
        " {u'B06009_005E': u'2404491',\n",
        "  u'B06009_006E': u'1819016',\n",
        "  u'NAME': u'New York',\n",
        "  u'state': u'36',\n",
        "  'total_degrees': 4223507},\n",
        " {u'B06009_005E': u'2693889',\n",
        "  u'B06009_006E': u'1330503',\n",
        "  u'NAME': u'Texas',\n",
        "  u'state': u'48',\n",
        "  'total_degrees': 4024392},\n",
        " {u'B06009_005E': u'2170821',\n",
        "  u'B06009_006E': u'1195547',\n",
        "  u'NAME': u'Florida',\n",
        "  u'state': u'12',\n",
        "  'total_degrees': 3366368},\n",
        " {u'B06009_005E': u'1604636',\n",
        "  u'B06009_006E': u'972020',\n",
        "  u'NAME': u'Illinois',\n",
        "  u'state': u'17',\n",
        "  'total_degrees': 2576656},\n",
        " {u'B06009_005E': u'1416932',\n",
        "  u'B06009_006E': u'879628',\n",
        "  u'NAME': u'Pennsylvania',\n",
        "  u'state': u'42',\n",
        "  'total_degrees': 2296560},\n",
        " {u'B06009_005E': u'1294249',\n",
        "  u'B06009_006E': u'778213',\n",
        "  u'NAME': u'New Jersey',\n",
        "  u'state': u'34',\n",
        "  'total_degrees': 2072462},\n",
        " {u'B06009_005E': u'1190414',\n",
        "  u'B06009_006E': u'692282',\n",
        "  u'NAME': u'Ohio',\n",
        "  u'state': u'39',\n",
        "  'total_degrees': 1882696},\n",
        " {u'B06009_005E': u'1064406',\n",
        "  u'B06009_006E': u'749438',\n",
        "  u'NAME': u'Virginia',\n",
        "  u'state': u'51',\n",
        "  'total_degrees': 1813844},\n",
        " {u'B06009_005E': u'977354',\n",
        "  u'B06009_006E': u'733672',\n",
        "  u'NAME': u'Massachusetts',\n",
        "  u'state': u'25',\n",
        "  'total_degrees': 1711026},\n",
        " {u'B06009_005E': u'1086570',\n",
        "  u'B06009_006E': u'605510',\n",
        "  u'NAME': u'Georgia',\n",
        "  u'state': u'13',\n",
        "  'total_degrees': 1692080},\n",
        " {u'B06009_005E': u'1021486',\n",
        "  u'B06009_006E': u'638046',\n",
        "  u'NAME': u'Michigan',\n",
        "  u'state': u'26',\n",
        "  'total_degrees': 1659532},\n",
        " {u'B06009_005E': u'1099631',\n",
        "  u'B06009_006E': u'553158',\n",
        "  u'NAME': u'North Carolina',\n",
        "  u'state': u'37',\n",
        "  'total_degrees': 1652789},\n",
        " {u'B06009_005E': u'891470',\n",
        "  u'B06009_006E': u'500342',\n",
        "  u'NAME': u'Washington',\n",
        "  u'state': u'53',\n",
        "  'total_degrees': 1391812},\n",
        " {u'B06009_005E': u'762501',\n",
        "  u'B06009_006E': u'618134',\n",
        "  u'NAME': u'Maryland',\n",
        "  u'state': u'24',\n",
        "  'total_degrees': 1380635},\n",
        " {u'B06009_005E': u'760017',\n",
        "  u'B06009_006E': u'425109',\n",
        "  u'NAME': u'Colorado',\n",
        "  u'state': u'08',\n",
        "  'total_degrees': 1185126},\n",
        " {u'B06009_005E': u'750190',\n",
        "  u'B06009_006E': u'359091',\n",
        "  u'NAME': u'Minnesota',\n",
        "  u'state': u'27',\n",
        "  'total_degrees': 1109281},\n",
        " {u'B06009_005E': u'688123',\n",
        "  u'B06009_006E': u'390775',\n",
        "  u'NAME': u'Arizona',\n",
        "  u'state': u'04',\n",
        "  'total_degrees': 1078898},\n",
        " {u'B06009_005E': u'630556',\n",
        "  u'B06009_006E': u'371388',\n",
        "  u'NAME': u'Missouri',\n",
        "  u'state': u'29',\n",
        "  'total_degrees': 1001944},\n",
        " {u'B06009_005E': u'651003',\n",
        "  u'B06009_006E': u'330966',\n",
        "  u'NAME': u'Wisconsin',\n",
        "  u'state': u'55',\n",
        "  'total_degrees': 981969},\n",
        " {u'B06009_005E': u'626498',\n",
        "  u'B06009_006E': u'342180',\n",
        "  u'NAME': u'Tennessee',\n",
        "  u'state': u'47',\n",
        "  'total_degrees': 968678},\n",
        " {u'B06009_005E': u'611431',\n",
        "  u'B06009_006E': u'341306',\n",
        "  u'NAME': u'Indiana',\n",
        "  u'state': u'18',\n",
        "  'total_degrees': 952737},\n",
        " {u'B06009_005E': u'486109',\n",
        "  u'B06009_006E': u'375913',\n",
        "  u'NAME': u'Connecticut',\n",
        "  u'state': u'09',\n",
        "  'total_degrees': 862022},\n",
        " {u'B06009_005E': u'474848',\n",
        "  u'B06009_006E': u'272793',\n",
        "  u'NAME': u'Oregon',\n",
        "  u'state': u'41',\n",
        "  'total_degrees': 747641},\n",
        " {u'B06009_005E': u'473655',\n",
        "  u'B06009_006E': u'259911',\n",
        "  u'NAME': u'South Carolina',\n",
        "  u'state': u'45',\n",
        "  'total_degrees': 733566},\n",
        " {u'B06009_005E': u'438211',\n",
        "  u'B06009_006E': u'251228',\n",
        "  u'NAME': u'Alabama',\n",
        "  u'state': u'01',\n",
        "  'total_degrees': 689439},\n",
        " {u'B06009_005E': u'410501',\n",
        "  u'B06009_006E': u'201800',\n",
        "  u'NAME': u'Louisiana',\n",
        "  u'state': u'22',\n",
        "  'total_degrees': 612301},\n",
        " {u'B06009_005E': u'353907',\n",
        "  u'B06009_006E': u'240824',\n",
        "  u'NAME': u'Kentucky',\n",
        "  u'state': u'21',\n",
        "  'total_degrees': 594731},\n",
        " {u'B06009_005E': u'373040',\n",
        "  u'B06009_006E': u'182239',\n",
        "  u'NAME': u'Oklahoma',\n",
        "  u'state': u'40',\n",
        "  'total_degrees': 555279},\n",
        " {u'B06009_005E': u'355192',\n",
        "  u'B06009_006E': u'186423',\n",
        "  u'NAME': u'Kansas',\n",
        "  u'state': u'20',\n",
        "  'total_degrees': 541615},\n",
        " {u'B06009_005E': u'344314',\n",
        "  u'B06009_006E': u'153208',\n",
        "  u'NAME': u'Iowa',\n",
        "  u'state': u'19',\n",
        "  'total_degrees': 497522},\n",
        " {u'B06009_005E': u'309400',\n",
        "  u'B06009_006E': u'146883',\n",
        "  u'NAME': u'Utah',\n",
        "  u'state': u'49',\n",
        "  'total_degrees': 456283},\n",
        " {u'B06009_005E': u'259287',\n",
        "  u'B06009_006E': u'131911',\n",
        "  u'NAME': u'Nevada',\n",
        "  u'state': u'32',\n",
        "  'total_degrees': 391198},\n",
        " {u'B06009_005E': u'248127',\n",
        "  u'B06009_006E': u'124878',\n",
        "  u'NAME': u'Arkansas',\n",
        "  u'state': u'05',\n",
        "  'total_degrees': 373005},\n",
        " {u'B06009_005E': u'238819',\n",
        "  u'B06009_006E': u'133307',\n",
        "  u'NAME': u'Mississippi',\n",
        "  u'state': u'28',\n",
        "  'total_degrees': 372126},\n",
        " {u'B06009_005E': u'192909',\n",
        "  u'B06009_006E': u'142120',\n",
        "  u'NAME': u'New Mexico',\n",
        "  u'state': u'35',\n",
        "  'total_degrees': 335029},\n",
        " {u'B06009_005E': u'222204',\n",
        "  u'B06009_006E': u'104436',\n",
        "  u'NAME': u'Nebraska',\n",
        "  u'state': u'31',\n",
        "  'total_degrees': 326640},\n",
        " {u'B06009_005E': u'189486',\n",
        "  u'B06009_006E': u'108934',\n",
        "  u'NAME': u'New Hampshire',\n",
        "  u'state': u'33',\n",
        "  'total_degrees': 298420},\n",
        " {u'B06009_005E': u'179254',\n",
        "  u'B06009_006E': u'90856',\n",
        "  u'NAME': u'Hawaii',\n",
        "  u'state': u'15',\n",
        "  'total_degrees': 270110},\n",
        " {u'B06009_005E': u'162878',\n",
        "  u'B06009_006E': u'90319',\n",
        "  u'NAME': u'Maine',\n",
        "  u'state': u'23',\n",
        "  'total_degrees': 253197},\n",
        " {u'B06009_005E': u'164318',\n",
        "  u'B06009_006E': u'74065',\n",
        "  u'NAME': u'Idaho',\n",
        "  u'state': u'16',\n",
        "  'total_degrees': 238383},\n",
        " {u'B06009_005E': u'139860',\n",
        "  u'B06009_006E': u'86980',\n",
        "  u'NAME': u'West Virginia',\n",
        "  u'state': u'54',\n",
        "  'total_degrees': 226840},\n",
        " {u'B06009_005E': u'131495',\n",
        "  u'B06009_006E': u'85339',\n",
        "  u'NAME': u'Rhode Island',\n",
        "  u'state': u'44',\n",
        "  'total_degrees': 216834},\n",
        " {u'B06009_005E': u'91283',\n",
        "  u'B06009_006E': u'114368',\n",
        "  u'NAME': u'District of Columbia',\n",
        "  u'state': u'11',\n",
        "  'total_degrees': 205651},\n",
        " {u'B06009_005E': u'128736',\n",
        "  u'B06009_006E': u'58061',\n",
        "  u'NAME': u'Montana',\n",
        "  u'state': u'30',\n",
        "  'total_degrees': 186797},\n",
        " {u'B06009_005E': u'99435',\n",
        "  u'B06009_006E': u'67260',\n",
        "  u'NAME': u'Delaware',\n",
        "  u'state': u'10',\n",
        "  'total_degrees': 166695},\n",
        " {u'B06009_005E': u'88106',\n",
        "  u'B06009_006E': u'57164',\n",
        "  u'NAME': u'Vermont',\n",
        "  u'state': u'50',\n",
        "  'total_degrees': 145270},\n",
        " {u'B06009_005E': u'95651',\n",
        "  u'B06009_006E': u'39920',\n",
        "  u'NAME': u'South Dakota',\n",
        "  u'state': u'46',\n",
        "  'total_degrees': 135571},\n",
        " {u'B06009_005E': u'77520',\n",
        "  u'B06009_006E': u'41882',\n",
        "  u'NAME': u'Alaska',\n",
        "  u'state': u'02',\n",
        "  'total_degrees': 119402},\n",
        " {u'B06009_005E': u'85493',\n",
        "  u'B06009_006E': u'30177',\n",
        "  u'NAME': u'North Dakota',\n",
        "  u'state': u'38',\n",
        "  'total_degrees': 115670},\n",
        " {u'B06009_005E': u'58539',\n",
        "  u'B06009_006E': u'29789',\n",
        "  u'NAME': u'Wyoming',\n",
        "  u'state': u'56',\n",
        "  'total_degrees': 88328},\n",
        " {u'B06009_005E': None,\n",
        "  u'B06009_006E': None,\n",
        "  u'NAME': u'Puerto Rico',\n",
        "  u'state': u'72',\n",
        "  'total_degrees': 0}]"
       ]
      }
     ],
     "prompt_number": 8
    },
    {
     "cell_type": "code",
     "collapsed": false,
     "input": [],
     "language": "python",
     "metadata": {},
     "outputs": []
    }
   ],
   "metadata": {}
  }
 ]
}
