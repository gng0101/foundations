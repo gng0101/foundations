{
 "metadata": {
  "name": "",
  "signature": "sha256:99296de3f071cdc52ee35bcca61d2c7aee232796e98f49be509c711f962cdb97"
 },
 "nbformat": 3,
 "nbformat_minor": 0,
 "worksheets": [
  {
   "cells": [
    {
     "cell_type": "markdown",
     "metadata": {},
     "source": [
      "#Homework\n",
      "\n",
      "You can find the complete dogs.csv at http://jonathansoma.com/lede/dogs.csv. Using a new IPython notebook, find out...\n",
      "\n",
      "How many dogs are registered in New York City? Hint: if you check out the IPython notebook above, it talks about how to convert the csv.reader variable into a list, which might give you an easy way to do it.\n",
      "\n",
      "- How many dogs are registered in Brooklyn? Staten Island? Queens? Manhattan? Bronx?\n",
      "- How many dogs are named Max in the Lower East Side?\n",
      "- How many dogs are named Max in Bed Stuy?\n",
      "- How many dogs have the color brindle as their first or second color?\n",
      "- Ask the user for their name (you're gonna have to Google how to get user input in python!). Then find out how many dogs in New York have that name.\n",
      "- Remember to add in comments about where you found answers and what you're trying to do during each step!\n",
      "\n",
      "When you've done what you can (...everything, right?), save the IPython notebook by going to File > Download as... and click IPython Notebook. A .ipynb will be downloaded to your computer. E-mail that file as an attachment to jonathan.soma@gmail.com."
     ]
    },
    {
     "cell_type": "code",
     "collapsed": false,
     "input": [
      "#Import libraries\n",
      "import urllib\n",
      "import csv\n",
      "\n",
      "#Retrieve file, open, delimit and assign to a variable, then assign to a list\n",
      "urllib.urlretrieve(\"http://jonathansoma.com/lede/dogs.csv\", \"dogs.csv\")\n",
      "dogs = open(\"dogs.csv\", \"rb\")\n",
      "dogs_csv = csv.reader(dogs, delimiter = ',')\n",
      "dogs_list = list(dogs_csv)"
     ],
     "language": "python",
     "metadata": {},
     "outputs": [],
     "prompt_number": 13
    },
    {
     "cell_type": "code",
     "collapsed": false,
     "input": [
      "# Count number of dogs using a count of rows in our dogs list.\n",
      "len(dogs_list) - 1"
     ],
     "language": "python",
     "metadata": {},
     "outputs": [
      {
       "metadata": {},
       "output_type": "pyout",
       "prompt_number": 14,
       "text": [
        "81542"
       ]
      }
     ],
     "prompt_number": 14
    },
    {
     "cell_type": "markdown",
     "metadata": {},
     "source": [
      "#####How many dogs are registered in Brooklyn? Staten Island? Queens? Manhattan? Bronx?"
     ]
    },
    {
     "cell_type": "code",
     "collapsed": false,
     "input": [
      "# Call count variables \n",
      "brooklyn_count = 0 \n",
      "si_count = 0 \n",
      "queens_count = 0 \n",
      "manhattan_count = 0 \n",
      "bronx_count = 0 \n",
      "\n",
      "# For loop that looks at the 10th column for Borough, then adds to the count if it matches the borough.\n",
      "for dog in dogs_list:\n",
      "    if dog[9] == \"Brooklyn\":\n",
      "        brooklyn_count = brooklyn_count + 1\n",
      "    elif dog[9] == \"Staten Island\":\n",
      "        si_count = si_count + 1\n",
      "    elif dog[9] == \"Queens\":\n",
      "        queens_count = queens_count + 1\n",
      "    elif dog[9] == \"Manhattan\":\n",
      "        manhattan_count = manhattan_count + 1\n",
      "    elif dog[9] == \"Bronx\":\n",
      "        bronx_count = bronx_count + 1\n",
      "\n",
      "# Printing our results\n",
      "print \"The numbers of dogs registered in Brooklyn, Staten Island, Queens, Manhattan, and the Bronx are as follows: \"\n",
      "print \" Brooklyn = \" + str(brooklyn_count)\n",
      "print \" Staten Island = \" + str(si_count)\n",
      "print \" Queens = \" + str(queens_count)\n",
      "print \" Manhattan = \" + str(manhattan_count)\n",
      "print \" Bronx = \" + str(bronx_count)"
     ],
     "language": "python",
     "metadata": {},
     "outputs": [
      {
       "output_type": "stream",
       "stream": "stdout",
       "text": [
        "The numbers of dogs registered in Brooklyn, Staten Island, Queens, Manhattan, and the Bronx are as follows: \n",
        " Brooklyn = 19333\n",
        " Staten Island = 9381\n",
        " Queens = 17506\n",
        " Manhattan = 26029\n",
        " Bronx = 9293\n"
       ]
      }
     ],
     "prompt_number": 15
    },
    {
     "cell_type": "markdown",
     "metadata": {},
     "source": [
      "#####How many dogs are named Max in the Lower East Side?"
     ]
    },
    {
     "cell_type": "code",
     "collapsed": false,
     "input": [
      "# List of LES zip codes\n",
      "les_zip_list = [\"10002\", \"10003\", \"10009\"]\n",
      "\n",
      "count = 0\n",
      "# For loop that counts if first column and last column in each dog row within the list of dogs has Max and a LES zip code, then prints the results.\n",
      "for dog in dogs_list:\n",
      "    if dog[0] == \"Max\" and (dog[-1] in les_zip_list):\n",
      "        count = count + 1\n",
      "print \"There are \" + str(count) + \" dogs named Max in the LES.\""
     ],
     "language": "python",
     "metadata": {},
     "outputs": [
      {
       "output_type": "stream",
       "stream": "stdout",
       "text": [
        "There are 33 dogs named Max in the LES.\n"
       ]
      }
     ],
     "prompt_number": 16
    },
    {
     "cell_type": "markdown",
     "metadata": {},
     "source": [
      "#####How many dogs are named Max in Bed-Stuy?"
     ]
    },
    {
     "cell_type": "code",
     "collapsed": false,
     "input": [
      "# List of Bed-Stuy zip codes\n",
      "bed_stuy_zip_list = [\"11205\", \"11206\", \"11216\", \"11221\", \"11233\", \"11238\"]\n",
      "\n",
      "count = 0\n",
      "\n",
      "# For loop that counts if first column and last column in each dog row within the list of dogs has Max and a Bed-Stuy zip code, then prints the results.\n",
      "for dog in dogs_list:\n",
      "    if dog[0] == \"Max\" and (dog[-1] in bed_stuy_zip_list):\n",
      "        count = count + 1\n",
      "\n",
      "print \"There are \" + str(count) + \" dogs named Max in Bed-Stuy.\""
     ],
     "language": "python",
     "metadata": {},
     "outputs": [
      {
       "output_type": "stream",
       "stream": "stdout",
       "text": [
        "There are 26 dogs named Max in Bed-Stuy.\n"
       ]
      }
     ],
     "prompt_number": 17
    },
    {
     "cell_type": "markdown",
     "metadata": {},
     "source": [
      "#####How many dogs have the color brindle as their first or second color?"
     ]
    },
    {
     "cell_type": "code",
     "collapsed": false,
     "input": [
      "count = 0\n",
      "\n",
      "# For loop that counts if the 5th and 6th columns in each dog row within the list of dogs has BRINDLE, then prints the results.\n",
      "for dog in dogs_list:\n",
      "    if dog[4] == \"BRINDLE\" or dog[5] == \"BRINDLE\":\n",
      "        count = count + 1\n",
      "\n",
      "print \"There are \" + str(count) + \" dogs named Brindle as their first or second color.\""
     ],
     "language": "python",
     "metadata": {},
     "outputs": [
      {
       "output_type": "stream",
       "stream": "stdout",
       "text": [
        "There are 3606 dogs named Brindle as their first or second color.\n"
       ]
      }
     ],
     "prompt_number": 18
    },
    {
     "cell_type": "markdown",
     "metadata": {},
     "source": [
      "#####Ask the user for their name (you're gonna have to Google how to get user input in python!). Then find out how many dogs in New York have that name."
     ]
    },
    {
     "cell_type": "code",
     "collapsed": false,
     "input": [
      "# Asks user for name, then a list comprehension that collects the dog row information into a list called matching_dogs if the user name matches, then prints the results.\n",
      "# Found documentation on raw_input here: http://stackoverflow.com/questions/5563089/raw-input-function-in-python\n",
      "user_name = raw_input(\"What is your name? \") \n",
      "matching_dogs = [dog for dog in dogs_list if dog[0] == user_name]\n",
      "print \"There are \" + str(len(matching_dogs)) + \" dogs named \" + user_name + \" in New York.\""
     ],
     "language": "python",
     "metadata": {},
     "outputs": [
      {
       "name": "stdout",
       "output_type": "stream",
       "stream": "stdout",
       "text": [
        "What is your name? Socrates\n"
       ]
      },
      {
       "output_type": "stream",
       "stream": "stdout",
       "text": [
        "There are 11 dogs named Socrates in New York.\n"
       ]
      }
     ],
     "prompt_number": 21
    },
    {
     "cell_type": "code",
     "collapsed": false,
     "input": [],
     "language": "python",
     "metadata": {},
     "outputs": []
    }
   ],
   "metadata": {}
  }
 ]
}