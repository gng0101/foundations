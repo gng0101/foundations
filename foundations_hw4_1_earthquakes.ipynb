{
 "metadata": {
  "name": "",
  "signature": "sha256:85ff1ba446278cb8a5be079e32c0cba27f1ed5928535cbb65f7bf7000fc47ec5"
 },
 "nbformat": 3,
 "nbformat_minor": 0,
 "worksheets": [
  {
   "cells": [
    {
     "cell_type": "markdown",
     "metadata": {},
     "source": [
      "#BABY QUAKEBOT!\n",
      "\n",
      "https://source.opennews.org/en-US/articles/how-break-news-while-you-sleep/\n",
      "\n",
      " This is a python file, so you're going to run them from the command line by going to the folder it's in and running this terminal command...\n",
      "    python eq_homework.py\n",
      "Then a little magic will happen! Unfortunately, to make a lot of magic happen you'll need to fill in the functions below."
     ]
    },
    {
     "cell_type": "markdown",
     "metadata": {},
     "source": [
      "#### The info that comes from USGS looks something like this:"
     ]
    },
    {
     "cell_type": "code",
     "collapsed": false,
     "input": [
      "earthquake = {\n",
      "  'rms': '1.85', \n",
      "  'updated': '2014-06-11T05:22:21.596Z', \n",
      "  'type': 'earthquake', \n",
      "  'magType': 'mwp', \n",
      "  'longitude': '-136.6561', \n",
      "  'gap': '48', \n",
      "  'depth': '10', \n",
      "  'dmin': '0.811', \n",
      "  'mag': '5.7', \n",
      "  'time': '2014-06-04T11:58:58.200Z', \n",
      "  'latitude': '59.0001', \n",
      "  'place': '73km WSW of Haines, Alaska', \n",
      "  'net': 'us', \n",
      "  'nst': '', \n",
      "  'id': 'usc000rauc'}\n",
      "earthquake"
     ],
     "language": "python",
     "metadata": {},
     "outputs": [
      {
       "metadata": {},
       "output_type": "pyout",
       "prompt_number": 57,
       "text": [
        "{'depth': '10',\n",
        " 'dmin': '0.811',\n",
        " 'gap': '48',\n",
        " 'id': 'usc000rauc',\n",
        " 'latitude': '59.0001',\n",
        " 'longitude': '-136.6561',\n",
        " 'mag': '5.7',\n",
        " 'magType': 'mwp',\n",
        " 'net': 'us',\n",
        " 'nst': '',\n",
        " 'place': '73km WSW of Haines, Alaska',\n",
        " 'rms': '1.85',\n",
        " 'time': '2014-06-04T11:58:58.200Z',\n",
        " 'type': 'earthquake',\n",
        " 'updated': '2014-06-11T05:22:21.596Z'}"
       ]
      }
     ],
     "prompt_number": 57
    },
    {
     "cell_type": "markdown",
     "metadata": {},
     "source": [
      "####We're going to break it into pieces and see if we can make a nice little version of Quakebot.\n",
      "\n",
      "If there was an earthquake, it might say this\n",
      "\n",
      "`There was a big earthquake Monday morning a ways away from Haines, Alaska`\n",
      "\n",
      "But what if it was huge, or tiny, or just medium-sized? Or not near Haines at all?\n",
      "\n",
      "Let's see what we can do using functions to make this magic happen."
     ]
    },
    {
     "cell_type": "markdown",
     "metadata": {},
     "source": [
      "## PROBLEM 1:\n",
      "Let's make the print statement reflect the size of the earthquake\n",
      "\n",
      "Write a function that describes each earthquake using a scale similar to the one at the link below.\n",
      "\n",
      "Hint: You'll use if statements\n",
      "\n",
      "http://www.sdgs.usd.edu/publications/maps/earthquakes/images/RichterScale.gif"
     ]
    },
    {
     "cell_type": "code",
     "collapsed": false,
     "input": [
      "# Here, I have created a similar scale to the USGS richter scale that where we have made an adjustment to\n",
      "# the not felt and minor categories.  I have also added to the scale category ranges a measure of real world resulting damage.\n",
      "# Defining an earthquake size function that inputs a richter measurement, it takes sample inputs and outputs the scale category.\n",
      "\n",
      "def earthquake_size(richter_measurement):\n",
      "    richter_float = float(richter_measurement)\n",
      "    if richter_float <= 2 and richter_float > 0:\n",
      "        return \"imperceivable\"\n",
      "    if richter_float <= 4 and richter_float > 2:\n",
      "        return \"minor\"\n",
      "    if richter_float <= 5 and richter_float > 4:\n",
      "        return \"moderate\"\n",
      "    if richter_float <= 6 and richter_float > 5:\n",
      "        return \"strong\"\n",
      "    if richter_float <= 7 and richter_float > 6:\n",
      "        return \"very strong\"\n",
      "    if richter_float <= 8 and richter_float > 7:\n",
      "        return \"major\"\n",
      "    if richter_float > 8:\n",
      "        return \"devastating\"\n",
      "    \n",
      "print \"Strength: \" + earthquake_size(1.5)\n",
      "print \"Strength: \" + earthquake_size('3.9')\n",
      "print \"Strength: \" + earthquake_size(4.5)\n",
      "print \"Strength: \" + earthquake_size(5.8)\n",
      "print \"Strength: \" + earthquake_size(6.8)\n",
      "print \"Strength: \" + earthquake_size(7.1)\n",
      "print \"Strength: \" + earthquake_size(8.0)"
     ],
     "language": "python",
     "metadata": {},
     "outputs": [
      {
       "output_type": "stream",
       "stream": "stdout",
       "text": [
        "Strength: imperceivable\n",
        "Strength: minor\n",
        "Strength: moderate\n",
        "Strength: strong\n",
        "Strength: very strong\n",
        "Strength: major\n",
        "Strength: major\n"
       ]
      }
     ],
     "prompt_number": 65
    },
    {
     "cell_type": "markdown",
     "metadata": {},
     "source": [
      "PROBLEM 2:\n",
      "Let's make the print statement reflect the depth of the earthquake\n",
      "\n",
      "Make a function that describes each earthquake using a depth according to the information at the link below\n",
      "\n",
      "http://earthquake.usgs.gov/learn/topics/seismology/determining_depth.php\n",
      "\n",
      "Hint: You'll use if statements, and be careful about types!    "
     ]
    },
    {
     "cell_type": "markdown",
     "metadata": {},
     "source": [
      "#####Determining the Depth of an Earthquake\n",
      "<i>Earthquakes can occur anywhere between the Earth's surface and about 700 kilometers below the surface. For scientific purposes, this earthquake depth range of 0 - 700 km is divided into three zones: shallow, intermediate, and deep.\n",
      "\n",
      "Shallow earthquakes are between 0 and 70 km deep; intermediate earthquakes, 70 - 300 km deep; and deep earthquakes, 300 - 700 km deep. In general, the term \"deep-focus earthquakes\" is applied to earthquakes deeper than 70 km. All earthquakes deeper than 70 km are localized within great slabs of shallow lithosphere that are sinking into the Earth's mantle.</i>\n",
      "\n",
      "The evidence for deep-focus earthquakes was discovered in 1922 by H.H. Turner of Oxford, England. Previously, all earthquakes were considered to have shallow focal depths. The existence of deep-focus earthquakes was confirmed in 1931 from studies of the seismograms of several earthquakes, which in turn led to the construction of travel-time curves for intermediate and deep earthquakes.\n",
      "\n",
      "The most obvious indication on a seismogram that a large earthquake has a deep focus is the small amplitude, or height, of the recorded surface waves and the uncomplicated character of the P and S waves. Although the surface-wave pattern does generally indicate that an earthquake is either shallow or may have some depth, the most accurate method of determining the focal depth of an earthquake is to read a depth phase recorded on the seismogram. The depth phase is the characteristic phase pP-a P wave reflected from the surface of the Earth at a point relatively near the hypocenter. At distant seismograph stations, the pP follows the P wave by a time interval that changes slowly with distance but rapidly with depth. This time interval, pP-P (pP minus P), is used to compute depth-of-focus tables. Using the time difference of pP-P as read from the seismogram and the distance between the epicenter and the seismograph station, the depth of the earthquake can be determined from published travel-time curves or depth tables.\n",
      "\n",
      "Another seismic wave used to determine focal depth is the sP phase - an S wave reflected as a P wave from the Earth's surface at a point near the epicenter. This wave is recorded after the pP by about one-half of the pP-P time interval. The depth of an earthquake can be determined from the sP phase in the same manner as the pP phase by using the appropriate travel-time curves or depth tables for sP.\n",
      "\n",
      "If the pP and sP waves can be identified on the seismogram, an accurate focal depth can be determined.\n",
      "\n",
      "by William Spence, Stuart A. Sipkin, and George L. Choy\n",
      "Earthquakes and Volcanoes\n",
      "Volume 21, Number 1, 1989\n",
      "\n",
      "Source: http://earthquake.usgs.gov/learn/topics/seismology/determining_depth.php"
     ]
    },
    {
     "cell_type": "code",
     "collapsed": false,
     "input": [
      "# We will use the following scale categories (km below the earth's surface):\n",
      "# Shallow earthquakes = 0-70 km deep, Intermediate earthquakes= 70-300 km, Deep earthquakes= 300-700km deep\n",
      "# Here we define another earthquake function with shallow, intermediate, and deep categories.  Anything else is impossible or unmeasurable.\n",
      "\n",
      "def earthquake_depth(depth):\n",
      "    depth_float = float(depth)\n",
      "    if depth_float > 0 and depth_float <= 70:\n",
      "        return \"shallow\"\n",
      "    elif depth_float > 70 and depth_float <= 300:\n",
      "        return \"intermediate\"\n",
      "    elif depth_float > 300 and depth_float <= 700:\n",
      "        return \"deep\"\n",
      "    return \"impossible or unmeasurable\"\n",
      "\n",
      "print earthquake_depth('70')\n",
      "print earthquake_depth(71)\n",
      "print earthquake_depth(150)\n",
      "print earthquake_depth(700)\n",
      "print earthquake_depth(7000)\n",
      "print earthquake_depth('-1')"
     ],
     "language": "python",
     "metadata": {},
     "outputs": [
      {
       "output_type": "stream",
       "stream": "stdout",
       "text": [
        "shallow\n",
        "intermediate\n",
        "intermediate\n",
        "deep\n",
        "impossible or unmeasurable\n",
        "impossible or unmeasurable\n"
       ]
      }
     ],
     "prompt_number": 66
    },
    {
     "cell_type": "markdown",
     "metadata": {},
     "source": [
      "# PROBLEM 3:\n",
      "Let's make the print statement reflect the location the earthquake happened by\n",
      "\n",
      "Use regular expressions to extract the location from the argument location_string\n",
      "*or* research the 'split' function and see if it can be of use if you pass it a certain special separator\n"
     ]
    },
    {
     "cell_type": "code",
     "collapsed": false,
     "input": [
      "# Here, we used a split method on the location variable based on finding the string \" of \".\n",
      "# It takes whatever is after that, which is the location and returns that.\n",
      "\n",
      "def earthquake_location(location_str):\n",
      "\n",
      "    location = location_str.split(\" of \", 1)[1]\n",
      "\n",
      "    return location\n",
      "\n",
      "print earthquake_location(\"73km WSW of Haines, Alaska\")"
     ],
     "language": "python",
     "metadata": {},
     "outputs": [
      {
       "output_type": "stream",
       "stream": "stdout",
       "text": [
        "Haines, Alaska\n"
       ]
      }
     ],
     "prompt_number": 67
    },
    {
     "cell_type": "markdown",
     "metadata": {},
     "source": [
      "#PROBLEM 4:\n",
      "\n",
      "Let's make the print statement reflect the distance between the earthquake and the city\n",
      "\n",
      "You'll want to use several different categories, ie 'nearby', 'far away from', and 'nowhere near'\n",
      "\n",
      "Hint: You'll use regular expressions to extract the kilometers from location_string, then use if statements on the result"
     ]
    },
    {
     "cell_type": "code",
     "collapsed": false,
     "input": [
      "# After importing the re library, we define a distance function that inputs a location string.\n",
      "# The function searches for all digits within the string, takes the first digit value and assigns to a variable.\n",
      "# If the variable is >100km, it is not near, if it is >50km, it is somewhat close, and if it is <50km, it is dangerously close.\n",
      "\n",
      "import re\n",
      "\n",
      "def earthquake_distance(location_str):\n",
      "    distance = re.findall(r\"\\d+\", location_str)[0]\n",
      "    if float(distance) > 100:\n",
      "        return \"not near\"\n",
      "    elif float(distance) > 50:\n",
      "        return \"somewhat close\"\n",
      "    return \"dangerously close\"\n",
      "\n",
      "print earthquake_distance(\"101km N of Tokyo, Japan 243\")\n",
      "print earthquake_distance(\"73km WSW of Haines, Alaska\")\n",
      "print earthquake_distance(\"19km SE of Istanbul, Turkey\")"
     ],
     "language": "python",
     "metadata": {},
     "outputs": [
      {
       "output_type": "stream",
       "stream": "stdout",
       "text": [
        "not near\n",
        "somewhat close\n",
        "dangerously close\n"
       ]
      }
     ],
     "prompt_number": 68
    },
    {
     "cell_type": "markdown",
     "metadata": {},
     "source": [
      "# PROBLEM 5 & 6:"
     ]
    },
    {
     "cell_type": "code",
     "collapsed": false,
     "input": [
      "# These were written by the instructures to show what the full bot will do.\n",
      "# Message: Don't worry about these two functions yet.\n",
      "#\n",
      "#\n",
      "\n",
      "def earthquake_day(time_string):\n",
      "    return \"Monday\"\n",
      "\n",
      "def earthquake_time(time_string):\n",
      "    return \"morning\"\n",
      "\n",
      "print \"There was a \" + earthquake_size(1.1) + \\\n",
      "        \", \" + earthquake_depth('0.1') + \\\n",
      "        \" earthquake \" + earthquake_day('2014-06-04T11:58:58.200Z') + \\\n",
      "        \" \" + earthquake_time('2014-06-04T11:58:58.200Z') + \\\n",
      "        \" \" + earthquake_distance(\"73km WSW of Haines, Alaska\") + \\\n",
      "        \" \" + earthquake_location(\"73km WSW of Haines, Alaska\")\n",
      "\n",
      "print \"There was a \" + earthquake_size(8.7) + \\\n",
      "        \", \" + earthquake_depth('98.22') + \\\n",
      "        \" earthquake \" + earthquake_day('2014-06-04T11:58:58.200Z') + \\\n",
      "        \" \" + earthquake_time('2014-06-04T11:58:58.200Z') + \\\n",
      "        \" \" + earthquake_distance(\"238km N of Tobelo, Indonesia\") + \\\n",
      "        \" \" + earthquake_location(\"238km N of Tobelo, Indonesia\")\n",
      "\n",
      "print \"There was a \" + earthquake_size(3.3) + \\\n",
      "        \", \" + earthquake_depth('344.32') + \\\n",
      "        \" earthquake \" + earthquake_day('2014-06-04T11:58:58.200Z') + \\\n",
      "        \" \" + earthquake_time('2014-06-04T11:58:58.200Z') + \\\n",
      "        \" \" + earthquake_distance(\"10km NE of Medford, Oklahoma\") + \\\n",
      "        \" \" + earthquake_location(\"10km NE of Medford, Oklahoma\")\n",
      "\n",
      "print \"There was a \" + earthquake_size(6.1) + \\\n",
      "        \", \" + earthquake_depth(5.289) + \\\n",
      "        \" earthquake \" + earthquake_day('2014-06-04T11:58:58.200Z') + \\\n",
      "        \" \" + earthquake_time('2014-06-04T11:58:58.200Z') + \\\n",
      "        \" \" + earthquake_distance(\"91km NE of Miches, Dominican Republic\") + \\\n",
      "        \" \" + earthquake_location(\"91km NE of Miches, Dominican Republic\")"
     ],
     "language": "python",
     "metadata": {},
     "outputs": [
      {
       "output_type": "stream",
       "stream": "stdout",
       "text": [
        "There was a imperceivable, shallow earthquake Monday morning somewhat close Haines, Alaska\n",
        "There was a devastating, intermediate earthquake Monday morning not near Tobelo, Indonesia\n",
        "There was a minor, deep earthquake Monday morning dangerously close Medford, Oklahoma\n",
        "There was a very strong, shallow earthquake Monday morning somewhat close Miches, Dominican Republic\n"
       ]
      }
     ],
     "prompt_number": 71
    },
    {
     "cell_type": "code",
     "collapsed": false,
     "input": [],
     "language": "python",
     "metadata": {},
     "outputs": []
    }
   ],
   "metadata": {}
  }
 ]
}